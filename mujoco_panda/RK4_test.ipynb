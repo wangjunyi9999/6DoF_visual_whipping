{
 "cells": [
  {
   "cell_type": "code",
   "execution_count": 10,
   "metadata": {},
   "outputs": [
    {
     "name": "stdout",
     "output_type": "stream",
     "text": [
      "\n",
      "At x=2.0000, y=11.7778\n"
     ]
    }
   ],
   "source": [
    "\"\"\"\n",
    "Output of this Python program x0 and y0 is solution for dy/dx = x + y with initial condition y = 1 for x = 0 i.e. y(0) = 1 \n",
    "and we are trying to evaluate this differential equation at y = 1 using RK4 method ( Here y = 1 i.e. y(1) = ? xn is our calculation point)\n",
    "\"\"\"\n",
    "f=lambda x,y:x+y # f=x+y\n",
    "def rk4(x0,y0,xn,n):\n",
    "    #step size\n",
    "    h=(xn-x0)/n\n",
    "\n",
    "    for i in range (n):\n",
    "        k1=h*f(x0,y0)\n",
    "        k2=h*f(x0+h/2,y0+k1/2)\n",
    "        k3=h*f(x0+h/2,y0+k2/2)\n",
    "        k4=h*f(x0+h,y0+k3)\n",
    "        k=(k1+2*k2+2*k3+k4)/6\n",
    "        yn=y0+k\n",
    "        y0=yn\n",
    "        x0=x0+h\n",
    "    print('\\nAt x=%.4f, y=%.4f' %(xn,yn))\n",
    "\n",
    "rk4(x0=0,y0=1,xn=2,n=10)"
   ]
  }
 ],
 "metadata": {
  "kernelspec": {
   "display_name": "Python 3.8.13 ('robotarm')",
   "language": "python",
   "name": "python3"
  },
  "language_info": {
   "codemirror_mode": {
    "name": "ipython",
    "version": 3
   },
   "file_extension": ".py",
   "mimetype": "text/x-python",
   "name": "python",
   "nbconvert_exporter": "python",
   "pygments_lexer": "ipython3",
   "version": "3.8.13"
  },
  "orig_nbformat": 4,
  "vscode": {
   "interpreter": {
    "hash": "381047edec4090f843d4d5936d59728af04a22def26cf1da9a355d214ba8b488"
   }
  }
 },
 "nbformat": 4,
 "nbformat_minor": 2
}
